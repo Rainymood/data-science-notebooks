{
 "cells": [
  {
   "cell_type": "code",
   "execution_count": null,
   "metadata": {},
   "outputs": [],
   "source": [
    "import cv2\n",
    "import numpy as np\n",
    "import copy\n",
    "import math\n",
    "\n",
    "# Camera\n",
    "camera = cv2.VideoCapture(0)\n",
    "camera.set(10, 200)\n",
    "\n",
    "while camera.isOpened():\n",
    "    # read and show frame\n",
    "    ret, frame = camera.read()\n",
    "    cv2.imshow(\"original\", frame)\n",
    "    \n",
    "    # Keyboard OP\n",
    "    k = cv2.waitKey(10)\n",
    "    if k == 27:  # press ESC to exit\n",
    "        camera.release()\n",
    "        cv2.destroyAllWindows()\n",
    "        break"
   ]
  },
  {
   "cell_type": "code",
   "execution_count": null,
   "metadata": {},
   "outputs": [],
   "source": []
  }
 ],
 "metadata": {
  "kernelspec": {
   "display_name": "Python 3",
   "language": "python",
   "name": "python3"
  },
  "language_info": {
   "codemirror_mode": {
    "name": "ipython",
    "version": 3
   },
   "file_extension": ".py",
   "mimetype": "text/x-python",
   "name": "python",
   "nbconvert_exporter": "python",
   "pygments_lexer": "ipython3",
   "version": "3.7.3"
  }
 },
 "nbformat": 4,
 "nbformat_minor": 2
}
